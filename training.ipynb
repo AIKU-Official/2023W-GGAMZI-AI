{
  "cells": [
    {
      "cell_type": "code",
      "execution_count": null,
      "metadata": {
        "colab": {
          "base_uri": "https://localhost:8080/"
        },
        "id": "JD6SXLWcRw-X",
        "outputId": "e0dd8170-1fa6-4add-8b30-c2cd30a74175"
      },
      "outputs": [
        {
          "output_type": "stream",
          "name": "stdout",
          "text": [
            "Requirement already satisfied: numpy in /usr/local/lib/python3.10/dist-packages (1.23.5)\n",
            "Requirement already satisfied: scipy in /usr/local/lib/python3.10/dist-packages (1.11.3)\n",
            "Requirement already satisfied: scikit-image in /usr/local/lib/python3.10/dist-packages (0.19.3)\n",
            "Requirement already satisfied: tqdm in /usr/local/lib/python3.10/dist-packages (4.66.1)\n",
            "Collecting jsonlib-python3\n",
            "  Downloading jsonlib-python3-1.6.1.tar.gz (43 kB)\n",
            "\u001b[2K     \u001b[90m━━━━━━━━━━━━━━━━━━━━━━━━━━━━━━━━━━━━━━━━\u001b[0m \u001b[32m43.5/43.5 kB\u001b[0m \u001b[31m1.4 MB/s\u001b[0m eta \u001b[36m0:00:00\u001b[0m\n",
            "\u001b[?25h  Preparing metadata (setup.py) ... \u001b[?25l\u001b[?25hdone\n",
            "Requirement already satisfied: fonttools in /usr/local/lib/python3.10/dist-packages (4.44.3)\n",
            "Collecting sconf\n",
            "  Downloading sconf-0.2.5-py3-none-any.whl (8.8 kB)\n",
            "Requirement already satisfied: networkx>=2.2 in /usr/local/lib/python3.10/dist-packages (from scikit-image) (3.2.1)\n",
            "Requirement already satisfied: pillow!=7.1.0,!=7.1.1,!=8.3.0,>=6.1.0 in /usr/local/lib/python3.10/dist-packages (from scikit-image) (9.4.0)\n",
            "Requirement already satisfied: imageio>=2.4.1 in /usr/local/lib/python3.10/dist-packages (from scikit-image) (2.31.6)\n",
            "Requirement already satisfied: tifffile>=2019.7.26 in /usr/local/lib/python3.10/dist-packages (from scikit-image) (2023.9.26)\n",
            "Requirement already satisfied: PyWavelets>=1.1.1 in /usr/local/lib/python3.10/dist-packages (from scikit-image) (1.4.1)\n",
            "Requirement already satisfied: packaging>=20.0 in /usr/local/lib/python3.10/dist-packages (from scikit-image) (23.2)\n",
            "Collecting ruamel.yaml (from sconf)\n",
            "  Downloading ruamel.yaml-0.18.5-py3-none-any.whl (116 kB)\n",
            "\u001b[2K     \u001b[90m━━━━━━━━━━━━━━━━━━━━━━━━━━━━━━━━━━━━━━━━\u001b[0m \u001b[32m116.4/116.4 kB\u001b[0m \u001b[31m5.2 MB/s\u001b[0m eta \u001b[36m0:00:00\u001b[0m\n",
            "\u001b[?25hCollecting munch (from sconf)\n",
            "  Downloading munch-4.0.0-py2.py3-none-any.whl (9.9 kB)\n",
            "Collecting ruamel.yaml.clib>=0.2.7 (from ruamel.yaml->sconf)\n",
            "  Downloading ruamel.yaml.clib-0.2.8-cp310-cp310-manylinux_2_17_x86_64.manylinux2014_x86_64.manylinux_2_24_x86_64.whl (526 kB)\n",
            "\u001b[2K     \u001b[90m━━━━━━━━━━━━━━━━━━━━━━━━━━━━━━━━━━━━━━━━\u001b[0m \u001b[32m526.7/526.7 kB\u001b[0m \u001b[31m16.4 MB/s\u001b[0m eta \u001b[36m0:00:00\u001b[0m\n",
            "\u001b[?25hBuilding wheels for collected packages: jsonlib-python3\n",
            "  Building wheel for jsonlib-python3 (setup.py) ... \u001b[?25l\u001b[?25hdone\n",
            "  Created wheel for jsonlib-python3: filename=jsonlib_python3-1.6.1-cp310-cp310-linux_x86_64.whl size=72618 sha256=f4f2501626e3a4d664a80721828472fa49cbefe41b3da647063f64eafde33d7b\n",
            "  Stored in directory: /root/.cache/pip/wheels/1f/48/2b/3b4e8a617b152bacc255f98c81f38f099b1ac06209d6c48d8a\n",
            "Successfully built jsonlib-python3\n",
            "Installing collected packages: jsonlib-python3, ruamel.yaml.clib, munch, ruamel.yaml, sconf\n",
            "Successfully installed jsonlib-python3-1.6.1 munch-4.0.0 ruamel.yaml-0.18.5 ruamel.yaml.clib-0.2.8 sconf-0.2.5\n"
          ]
        }
      ],
      "source": [
        "!pip install numpy scipy scikit-image tqdm jsonlib-python3 fonttools sconf tqdm"
      ]
    },
    {
      "cell_type": "code",
      "execution_count": null,
      "metadata": {
        "colab": {
          "base_uri": "https://localhost:8080/"
        },
        "id": "TFLNBWn_SOow",
        "outputId": "fea27f7e-8e28-41af-dd21-579ecff7218b"
      },
      "outputs": [
        {
          "output_type": "stream",
          "name": "stdout",
          "text": [
            "Mounted at /content/drive/\n"
          ]
        }
      ],
      "source": [
        "from google.colab import drive\n",
        "drive.mount('/content/drive/')"
      ]
    },
    {
      "cell_type": "code",
      "execution_count": null,
      "metadata": {
        "colab": {
          "base_uri": "https://localhost:8080/"
        },
        "id": "b6GkmvAYSXGY",
        "outputId": "04d3c6f9-c714-4793-fd33-d917a898ec08"
      },
      "outputs": [
        {
          "output_type": "stream",
          "name": "stdout",
          "text": [
            "/content/drive/MyDrive/2023학교/AIKU/2023_2_project2/mxfont-main\n"
          ]
        }
      ],
      "source": [
        "%cd \"/content/drive/MyDrive/2023학교/AIKU/2023_2_project2/mxfont-main\""
      ]
    },
    {
      "cell_type": "code",
      "execution_count": null,
      "metadata": {
        "id": "JtWAlahSwGj-"
      },
      "outputs": [],
      "source": [
        "!python get_chars_from_ttf.py --root_dir /content/drive/MyDrive/2023학교/AIKU/2023_2_project2/mxfont-main/data/ttfs/train"
      ]
    },
    {
      "cell_type": "code",
      "execution_count": null,
      "metadata": {
        "colab": {
          "base_uri": "https://localhost:8080/"
        },
        "id": "bXjzsvsly2XU",
        "outputId": "d1b7b16f-05fd-45ac-dd4c-da0b33e8cb7e"
      },
      "outputs": [
        {
          "name": "stdout",
          "output_type": "stream",
          "text": [
            "/content/drive/MyDrive/2023학교/AIKU/2023_2_project2/mxfont-main/data/ttfs/val\n",
            "  0% 0/14 [00:00<?, ?it/s]currently proceesign font is ...UhBee KOR\n",
            "  7% 1/14 [00:02<00:32,  2.48s/it]currently proceesign font is ...UhBee eunD\n",
            " 14% 2/14 [00:06<00:38,  3.22s/it]currently proceesign font is ...UhBee Minidori\n",
            " 21% 3/14 [00:09<00:34,  3.14s/it]currently proceesign font is ...UhBee freak researcher minani\n",
            " 29% 4/14 [00:13<00:36,  3.68s/it]currently proceesign font is ...나눔손글씨 강부장님체\n",
            " 36% 5/14 [00:27<01:07,  7.47s/it]currently proceesign font is ...나눔손글씨 아빠의 연애편지\n",
            " 43% 6/14 [00:40<01:14,  9.28s/it]currently proceesign font is ...bourqgothic_3\n",
            " 50% 7/14 [01:00<01:28, 12.62s/it]currently proceesign font is ...KimjungchulScript-Regular\n",
            " 57% 8/14 [01:14<01:18, 13.01s/it]currently proceesign font is ...Dobong_Cultural_Routes(TTF)\n",
            " 64% 9/14 [01:25<01:01, 12.38s/it]pass Jeongnimsaji-R\n",
            "pass Jeongnimsaji-B\n",
            "currently proceesign font is ...그녀_이옥선\n",
            " 86% 12/14 [01:33<00:13,  6.89s/it]currently proceesign font is ...온글잎 우치뭉치\n",
            " 93% 13/14 [01:37<00:06,  6.37s/it]currently proceesign font is ...온글잎 째니체\n",
            "100% 14/14 [01:41<00:00,  7.23s/it]\n"
          ]
        }
      ],
      "source": [
        "!python get_chars_from_ttf.py --root_dir /content/drive/MyDrive/2023학교/AIKU/2023_2_project2/mxfont-main/data/ttfs/val"
      ]
    },
    {
      "cell_type": "code",
      "execution_count": null,
      "metadata": {
        "colab": {
          "base_uri": "https://localhost:8080/"
        },
        "id": "9r60j5IKSvBX",
        "outputId": "e7296a19-7c54-4103-83bc-84823d6a9db2"
      },
      "outputs": [
        {
          "output_type": "stream",
          "name": "stdout",
          "text": [
            "\u001b[36mINFO\u001b[0m::11/28 01:23:47 | Run Argv:\n",
            "> train.py cfgs/train.yaml\n",
            "\u001b[36mINFO\u001b[0m::11/28 01:23:47 | Args:\n",
            "config_paths = ['cfgs/train.yaml']\n",
            "\u001b[36mINFO\u001b[0m::11/28 01:23:47 | Configs:\n",
            "use_ddp: False\n",
            "port: None\n",
            "batch_size: 8\n",
            "resume: None\n",
            "force_resume: True\n",
            "work_dir: /content/drive/MyDrive/2023학교/AIKU/2023_2_project2/mxfont-main/train_results\n",
            "max_iter: 50000\n",
            "seed: 2\n",
            "g_lr: 0.0002\n",
            "d_lr: 0.001\n",
            "ac_lr: 0.0002\n",
            "n_workers: 4\n",
            "adam_betas: \n",
            "  - 0.0\n",
            "  - 0.9\n",
            "init: kaiming\n",
            "language: chn\n",
            "decomposition: /content/drive/MyDrive/fewshot-font-generation-main/data/kor/decomposition.json\n",
            "primals: /content/drive/MyDrive/fewshot-font-generation-main/data/kor/primals.json\n",
            "dset_aug: \n",
            "  normalize: True\n",
            "  random_affine: False\n",
            "dset: \n",
            "  train: \n",
            "    data_dir: /content/drive/MyDrive/2023학교/AIKU/2023_2_project2/mxfont-main/data/ttfs/train\n",
            "    n_in_s: 3\n",
            "    n_in_c: 3\n",
            "  val: \n",
            "    data_dir: /content/drive/MyDrive/2023학교/AIKU/2023_2_project2/mxfont-main/data/ttfs/val\n",
            "    n_ref: 4\n",
            "    source_font: /content/drive/MyDrive/2023학교/AIKU/2023_2_project2/mxfont-main/data/ttfs/val/Jeongnimsaji-B.ttf\n",
            "  test: \n",
            "    data_dir: None\n",
            "    source_font: None\n",
            "    gen_chars_file: None\n",
            "C: 32\n",
            "g_args: \n",
            "  style_enc: \n",
            "    norm: in\n",
            "    activ: relu\n",
            "    pad_type: zero\n",
            "    skip_scale_var: False\n",
            "  experts: \n",
            "    n_experts: 6\n",
            "    norm: in\n",
            "    activ: relu\n",
            "    pad_type: zero\n",
            "    skip_scale_var: False\n",
            "  emb_num: 2\n",
            "  dec: \n",
            "    norm: in\n",
            "    activ: relu\n",
            "    pad_type: zero\n",
            "    out: sigmoid\n",
            "d_args: \n",
            "  w_norm: spectral\n",
            "  activ: relu\n",
            "  gap_activ: relu\n",
            "  pad_type: zero\n",
            "  res_scale_var: False\n",
            "ac_args: \n",
            "  norm: in\n",
            "  activ: relu\n",
            "  pad_type: zero\n",
            "  conv_dropout: 0.3\n",
            "  clf_dropout: 0.2\n",
            "pixel_loss_type: l1\n",
            "pixel_w: 0.1\n",
            "gan_w: 1.0\n",
            "fm_layers: all\n",
            "fm_w: 1.0\n",
            "ac_w: 1.0\n",
            "ac_gen_w: 1.0\n",
            "ac_cross_w: 1.0\n",
            "indp_exp_w: 1.0\n",
            "indp_fact_w: 1.0\n",
            "save: all-last\n",
            "print_freq: 1000\n",
            "val_freq: 10000\n",
            "save_freq: 200\n",
            "tb_freq: -1\n",
            "gpu: -1\n",
            "\u001b[36mINFO\u001b[0m::11/28 01:23:47 | Get dataset ...\n",
            "\u001b[36mINFO\u001b[0m::11/28 01:23:51 | Build model ...\n",
            "\u001b[36mINFO\u001b[0m::11/28 01:23:52 | Start training ...\n",
            "0it [00:00, ?it/s]\u001b[36mINFO\u001b[0m::11/28 01:24:15 | Step       0\n",
            "|D             4.004 |G            -0.264 |FM            0.143 |R_font        0.500 |F_font        0.000 |R_uni         0.500 |F_uni         0.000\n",
            "|AC_s          8.051 |AC_c          3.544 |cr_AC_s      -3.220 |cr_AC_c      -5.749 |AC_acc_s       0.0% |AC_acc_c       9.8%\n",
            "|AC_g_s        8.415 |AC_g_c        3.375 |cr_AC_g_s    -3.220 |cr_AC_g_c    -5.749 |AC_g_acc_s     0.0% |AC_g_acc_c    10.7%\n",
            "|L1            0.066 |INDP_EXP     0.2340 |INDP_FACT    0.8016\n",
            "/usr/local/lib/python3.10/dist-packages/torch/cuda/memory.py:453: FutureWarning: torch.cuda.max_memory_cached has been renamed to torch.cuda.max_memory_reserved\n",
            "  warnings.warn(\n",
            "1it [00:26, 26.40s/it]\n",
            "Traceback (most recent call last):\n",
            "  File \"/content/drive/MyDrive/2023학교/AIKU/2023_2_project2/mxfont-main/train.py\", line 186, in <module>\n",
            "    main()\n",
            "  File \"/content/drive/MyDrive/2023학교/AIKU/2023_2_project2/mxfont-main/train.py\", line 182, in main\n",
            "    train(args, cfg)\n",
            "  File \"/content/drive/MyDrive/2023학교/AIKU/2023_2_project2/mxfont-main/train.py\", line 168, in train\n",
            "    trainer.train(trn_loader, st_step, cfg.max_iter)\n",
            "  File \"/content/drive/MyDrive/2023학교/AIKU/2023_2_project2/mxfont-main/trainer/fact_trainer.py\", line 159, in train\n",
            "    self.ac_backward()\n",
            "  File \"/content/drive/MyDrive/2023학교/AIKU/2023_2_project2/mxfont-main/trainer/base_trainer.py\", line 142, in ac_backward\n",
            "    frozen_ac_loss.backward(retain_graph=True)\n",
            "  File \"/usr/local/lib/python3.10/dist-packages/torch/_tensor.py\", line 492, in backward\n",
            "    torch.autograd.backward(\n",
            "  File \"/usr/local/lib/python3.10/dist-packages/torch/autograd/__init__.py\", line 251, in backward\n",
            "    Variable._execution_engine.run_backward(  # Calls into the C++ engine to run the backward pass\n",
            "KeyboardInterrupt\n"
          ]
        }
      ],
      "source": [
        "!python train.py cfgs/train.yaml"
      ]
    }
  ],
  "metadata": {
    "accelerator": "GPU",
    "colab": {
      "machine_shape": "hm",
      "provenance": []
    },
    "kernelspec": {
      "display_name": "Python 3",
      "name": "python3"
    },
    "language_info": {
      "name": "python"
    }
  },
  "nbformat": 4,
  "nbformat_minor": 0
}